{
  "nbformat": 4,
  "nbformat_minor": 0,
  "metadata": {
    "colab": {
      "name": "HW4_Question2.ipynb",
      "provenance": [],
      "authorship_tag": "ABX9TyPxvQ4cv00BZDPJC1P6x1sX",
      "include_colab_link": true
    },
    "kernelspec": {
      "name": "python3",
      "display_name": "Python 3"
    },
    "language_info": {
      "name": "python"
    }
  },
  "cells": [
    {
      "cell_type": "markdown",
      "metadata": {
        "id": "view-in-github",
        "colab_type": "text"
      },
      "source": [
        "<a href=\"https://colab.research.google.com/github/justicsc/HW4_487_QUESTION2/blob/main/HW4_Question2.ipynb\" target=\"_parent\"><img src=\"https://colab.research.google.com/assets/colab-badge.svg\" alt=\"Open In Colab\"/></a>"
      ]
    },
    {
      "cell_type": "code",
      "execution_count": 1,
      "metadata": {
        "id": "qZkfFQFoiLH8"
      },
      "outputs": [],
      "source": [
        "from sklearn.naive_bayes import GaussianNB\n",
        "from sklearn import datasets\n",
        "iris = datasets.load_iris()"
      ]
    },
    {
      "cell_type": "code",
      "source": [
        "from google.colab import drive\n",
        "drive.mount('/content/drive')\n"
      ],
      "metadata": {
        "colab": {
          "base_uri": "https://localhost:8080/"
        },
        "id": "f7rmkRHKjHDF",
        "outputId": "0c268106-c4c2-4279-ebf9-bb2bd00ece84"
      },
      "execution_count": 2,
      "outputs": [
        {
          "output_type": "stream",
          "name": "stdout",
          "text": [
            "Mounted at /content/drive\n"
          ]
        }
      ]
    },
    {
      "cell_type": "code",
      "source": [
        "import pandas as pd\n",
        "train = pd.read_csv('/content/drive/MyDrive/DATA/diabetes_train.csv') \n",
        "test = pd.read_csv('/content/drive/MyDrive/DATA/diabetes_train.csv')\n"
      ],
      "metadata": {
        "id": "ujJ-geXyjS2U"
      },
      "execution_count": 5,
      "outputs": []
    },
    {
      "cell_type": "code",
      "source": [
        "main_test = test.iloc[-10:]  #made new one specifically for the last 10 rows of data\n",
        "print(main_test)"
      ],
      "metadata": {
        "colab": {
          "base_uri": "https://localhost:8080/"
        },
        "id": "PlXF3snVmHt9",
        "outputId": "b7ccddc3-9c74-4d08-83c3-ff92f143edcc"
      },
      "execution_count": 6,
      "outputs": [
        {
          "output_type": "stream",
          "name": "stdout",
          "text": [
            "     preg  plas  pres  skin  insu  mass   pedi  age            class\n",
            "748     3   187    70    22   200  36.4  0.408   36  tested_positive\n",
            "749     6   162    62     0     0  24.3  0.178   50  tested_positive\n",
            "750     4   136    70     0     0  31.2  1.182   22  tested_positive\n",
            "751     1   121    78    39    74  39.0  0.261   28  tested_negative\n",
            "752     3   108    62    24     0  26.0  0.223   25  tested_negative\n",
            "753     0   181    88    44   510  43.3  0.222   26  tested_positive\n",
            "754     8   154    78    32     0  32.4  0.443   45  tested_positive\n",
            "755     1   128    88    39   110  36.5  1.057   37  tested_positive\n",
            "756     7   137    90    41     0  32.0  0.391   39  tested_negative\n",
            "757     0   123    72     0     0  36.3  0.258   52  tested_positive\n"
          ]
        }
      ]
    },
    {
      "cell_type": "code",
      "source": [
        "model = GaussianNB()\n",
        "model = model.fit(train.iloc[:,0:8], train.iloc[:,8])\n",
        "y_pred = model.predict(test.iloc[:,0:8])\n",
        "y_pred\n"
      ],
      "metadata": {
        "colab": {
          "base_uri": "https://localhost:8080/"
        },
        "id": "bTVE8dPPmrCn",
        "outputId": "a7dee796-0a0a-4f56-a973-ab6bab66764c"
      },
      "execution_count": 7,
      "outputs": [
        {
          "output_type": "execute_result",
          "data": {
            "text/plain": [
              "array(['tested_positive', 'tested_negative', 'tested_positive',\n",
              "       'tested_negative', 'tested_positive', 'tested_negative',\n",
              "       'tested_negative', 'tested_positive', 'tested_positive',\n",
              "       'tested_negative', 'tested_negative', 'tested_positive',\n",
              "       'tested_positive', 'tested_positive', 'tested_positive',\n",
              "       'tested_negative', 'tested_positive', 'tested_negative',\n",
              "       'tested_negative', 'tested_negative', 'tested_positive',\n",
              "       'tested_negative', 'tested_positive', 'tested_negative',\n",
              "       'tested_positive', 'tested_negative', 'tested_positive',\n",
              "       'tested_negative', 'tested_positive', 'tested_negative',\n",
              "       'tested_negative', 'tested_positive', 'tested_negative',\n",
              "       'tested_negative', 'tested_negative', 'tested_negative',\n",
              "       'tested_positive', 'tested_negative', 'tested_negative',\n",
              "       'tested_positive', 'tested_positive', 'tested_positive',\n",
              "       'tested_negative', 'tested_positive', 'tested_positive',\n",
              "       'tested_positive', 'tested_negative', 'tested_negative',\n",
              "       'tested_negative', 'tested_negative', 'tested_negative',\n",
              "       'tested_negative', 'tested_negative', 'tested_positive',\n",
              "       'tested_positive', 'tested_negative', 'tested_positive',\n",
              "       'tested_positive', 'tested_positive', 'tested_negative',\n",
              "       'tested_negative', 'tested_negative', 'tested_negative',\n",
              "       'tested_negative', 'tested_negative', 'tested_negative',\n",
              "       'tested_negative', 'tested_negative', 'tested_negative',\n",
              "       'tested_negative', 'tested_negative', 'tested_negative',\n",
              "       'tested_positive', 'tested_negative', 'tested_negative',\n",
              "       'tested_negative', 'tested_negative', 'tested_negative',\n",
              "       'tested_positive', 'tested_negative', 'tested_negative',\n",
              "       'tested_negative', 'tested_negative', 'tested_negative',\n",
              "       'tested_positive', 'tested_negative', 'tested_positive',\n",
              "       'tested_negative', 'tested_positive', 'tested_negative',\n",
              "       'tested_negative', 'tested_negative', 'tested_negative',\n",
              "       'tested_negative', 'tested_negative', 'tested_positive',\n",
              "       'tested_negative', 'tested_negative', 'tested_negative',\n",
              "       'tested_positive', 'tested_positive', 'tested_negative',\n",
              "       'tested_negative', 'tested_negative', 'tested_negative',\n",
              "       'tested_negative', 'tested_negative', 'tested_negative',\n",
              "       'tested_negative', 'tested_negative', 'tested_positive',\n",
              "       'tested_positive', 'tested_negative', 'tested_negative',\n",
              "       'tested_positive', 'tested_positive', 'tested_negative',\n",
              "       'tested_negative', 'tested_negative', 'tested_negative',\n",
              "       'tested_positive', 'tested_negative', 'tested_negative',\n",
              "       'tested_negative', 'tested_negative', 'tested_negative',\n",
              "       'tested_negative', 'tested_negative', 'tested_negative',\n",
              "       'tested_negative', 'tested_positive', 'tested_positive',\n",
              "       'tested_positive', 'tested_negative', 'tested_negative',\n",
              "       'tested_negative', 'tested_negative', 'tested_negative',\n",
              "       'tested_negative', 'tested_negative', 'tested_negative',\n",
              "       'tested_negative', 'tested_negative', 'tested_negative',\n",
              "       'tested_positive', 'tested_negative', 'tested_negative',\n",
              "       'tested_positive', 'tested_positive', 'tested_negative',\n",
              "       'tested_negative', 'tested_negative', 'tested_positive',\n",
              "       'tested_positive', 'tested_positive', 'tested_positive',\n",
              "       'tested_negative', 'tested_negative', 'tested_negative',\n",
              "       'tested_positive', 'tested_negative', 'tested_negative',\n",
              "       'tested_negative', 'tested_negative', 'tested_negative',\n",
              "       'tested_negative', 'tested_negative', 'tested_negative',\n",
              "       'tested_negative', 'tested_negative', 'tested_negative',\n",
              "       'tested_negative', 'tested_negative', 'tested_negative',\n",
              "       'tested_negative', 'tested_positive', 'tested_negative',\n",
              "       'tested_positive', 'tested_positive', 'tested_positive',\n",
              "       'tested_negative', 'tested_negative', 'tested_negative',\n",
              "       'tested_negative', 'tested_negative', 'tested_positive',\n",
              "       'tested_positive', 'tested_positive', 'tested_negative',\n",
              "       'tested_negative', 'tested_negative', 'tested_positive',\n",
              "       'tested_positive', 'tested_positive', 'tested_negative',\n",
              "       'tested_positive', 'tested_negative', 'tested_negative',\n",
              "       'tested_negative', 'tested_positive', 'tested_negative',\n",
              "       'tested_negative', 'tested_negative', 'tested_negative',\n",
              "       'tested_negative', 'tested_negative', 'tested_positive',\n",
              "       'tested_positive', 'tested_negative', 'tested_positive',\n",
              "       'tested_negative', 'tested_positive', 'tested_positive',\n",
              "       'tested_negative', 'tested_negative', 'tested_positive',\n",
              "       'tested_negative', 'tested_negative', 'tested_negative',\n",
              "       'tested_negative', 'tested_positive', 'tested_positive',\n",
              "       'tested_negative', 'tested_positive', 'tested_negative',\n",
              "       'tested_negative', 'tested_negative', 'tested_positive',\n",
              "       'tested_positive', 'tested_negative', 'tested_negative',\n",
              "       'tested_positive', 'tested_negative', 'tested_negative',\n",
              "       'tested_negative', 'tested_positive', 'tested_positive',\n",
              "       'tested_positive', 'tested_positive', 'tested_negative',\n",
              "       'tested_negative', 'tested_negative', 'tested_negative',\n",
              "       'tested_positive', 'tested_negative', 'tested_positive',\n",
              "       'tested_negative', 'tested_positive', 'tested_positive',\n",
              "       'tested_negative', 'tested_negative', 'tested_negative',\n",
              "       'tested_negative', 'tested_negative', 'tested_positive',\n",
              "       'tested_negative', 'tested_negative', 'tested_negative',\n",
              "       'tested_positive', 'tested_positive', 'tested_positive',\n",
              "       'tested_positive', 'tested_negative', 'tested_negative',\n",
              "       'tested_negative', 'tested_negative', 'tested_positive',\n",
              "       'tested_positive', 'tested_negative', 'tested_negative',\n",
              "       'tested_positive', 'tested_negative', 'tested_negative',\n",
              "       'tested_negative', 'tested_positive', 'tested_negative',\n",
              "       'tested_negative', 'tested_negative', 'tested_negative',\n",
              "       'tested_negative', 'tested_negative', 'tested_positive',\n",
              "       'tested_negative', 'tested_positive', 'tested_negative',\n",
              "       'tested_negative', 'tested_positive', 'tested_positive',\n",
              "       'tested_negative', 'tested_negative', 'tested_negative',\n",
              "       'tested_negative', 'tested_positive', 'tested_negative',\n",
              "       'tested_negative', 'tested_positive', 'tested_positive',\n",
              "       'tested_negative', 'tested_positive', 'tested_negative',\n",
              "       'tested_positive', 'tested_negative', 'tested_negative',\n",
              "       'tested_negative', 'tested_negative', 'tested_negative',\n",
              "       'tested_positive', 'tested_negative', 'tested_positive',\n",
              "       'tested_negative', 'tested_negative', 'tested_negative',\n",
              "       'tested_negative', 'tested_negative', 'tested_positive',\n",
              "       'tested_negative', 'tested_negative', 'tested_positive',\n",
              "       'tested_negative', 'tested_positive', 'tested_negative',\n",
              "       'tested_negative', 'tested_negative', 'tested_positive',\n",
              "       'tested_negative', 'tested_negative', 'tested_negative',\n",
              "       'tested_positive', 'tested_negative', 'tested_negative',\n",
              "       'tested_positive', 'tested_negative', 'tested_positive',\n",
              "       'tested_negative', 'tested_negative', 'tested_positive',\n",
              "       'tested_positive', 'tested_negative', 'tested_positive',\n",
              "       'tested_positive', 'tested_negative', 'tested_negative',\n",
              "       'tested_negative', 'tested_negative', 'tested_negative',\n",
              "       'tested_positive', 'tested_negative', 'tested_negative',\n",
              "       'tested_negative', 'tested_negative', 'tested_negative',\n",
              "       'tested_negative', 'tested_negative', 'tested_negative',\n",
              "       'tested_negative', 'tested_positive', 'tested_negative',\n",
              "       'tested_positive', 'tested_positive', 'tested_positive',\n",
              "       'tested_positive', 'tested_positive', 'tested_positive',\n",
              "       'tested_positive', 'tested_positive', 'tested_negative',\n",
              "       'tested_negative', 'tested_negative', 'tested_negative',\n",
              "       'tested_negative', 'tested_positive', 'tested_negative',\n",
              "       'tested_negative', 'tested_negative', 'tested_negative',\n",
              "       'tested_positive', 'tested_negative', 'tested_negative',\n",
              "       'tested_positive', 'tested_positive', 'tested_negative',\n",
              "       'tested_negative', 'tested_negative', 'tested_negative',\n",
              "       'tested_negative', 'tested_negative', 'tested_negative',\n",
              "       'tested_positive', 'tested_positive', 'tested_negative',\n",
              "       'tested_negative', 'tested_positive', 'tested_positive',\n",
              "       'tested_negative', 'tested_positive', 'tested_positive',\n",
              "       'tested_negative', 'tested_negative', 'tested_negative',\n",
              "       'tested_positive', 'tested_negative', 'tested_negative',\n",
              "       'tested_negative', 'tested_negative', 'tested_positive',\n",
              "       'tested_negative', 'tested_negative', 'tested_negative',\n",
              "       'tested_positive', 'tested_positive', 'tested_negative',\n",
              "       'tested_negative', 'tested_positive', 'tested_negative',\n",
              "       'tested_negative', 'tested_positive', 'tested_negative',\n",
              "       'tested_positive', 'tested_negative', 'tested_negative',\n",
              "       'tested_negative', 'tested_negative', 'tested_negative',\n",
              "       'tested_negative', 'tested_positive', 'tested_positive',\n",
              "       'tested_negative', 'tested_positive', 'tested_negative',\n",
              "       'tested_negative', 'tested_negative', 'tested_negative',\n",
              "       'tested_negative', 'tested_negative', 'tested_negative',\n",
              "       'tested_positive', 'tested_positive', 'tested_negative',\n",
              "       'tested_negative', 'tested_negative', 'tested_positive',\n",
              "       'tested_negative', 'tested_negative', 'tested_negative',\n",
              "       'tested_negative', 'tested_positive', 'tested_negative',\n",
              "       'tested_negative', 'tested_negative', 'tested_negative',\n",
              "       'tested_negative', 'tested_negative', 'tested_negative',\n",
              "       'tested_negative', 'tested_negative', 'tested_positive',\n",
              "       'tested_negative', 'tested_negative', 'tested_positive',\n",
              "       'tested_positive', 'tested_negative', 'tested_negative',\n",
              "       'tested_negative', 'tested_negative', 'tested_positive',\n",
              "       'tested_negative', 'tested_negative', 'tested_negative',\n",
              "       'tested_positive', 'tested_positive', 'tested_negative',\n",
              "       'tested_negative', 'tested_negative', 'tested_negative',\n",
              "       'tested_negative', 'tested_negative', 'tested_negative',\n",
              "       'tested_negative', 'tested_negative', 'tested_negative',\n",
              "       'tested_positive', 'tested_negative', 'tested_negative',\n",
              "       'tested_negative', 'tested_positive', 'tested_positive',\n",
              "       'tested_positive', 'tested_positive', 'tested_negative',\n",
              "       'tested_positive', 'tested_negative', 'tested_negative',\n",
              "       'tested_negative', 'tested_negative', 'tested_negative',\n",
              "       'tested_positive', 'tested_negative', 'tested_negative',\n",
              "       'tested_positive', 'tested_positive', 'tested_negative',\n",
              "       'tested_negative', 'tested_negative', 'tested_negative',\n",
              "       'tested_negative', 'tested_negative', 'tested_positive',\n",
              "       'tested_negative', 'tested_negative', 'tested_negative',\n",
              "       'tested_negative', 'tested_negative', 'tested_negative',\n",
              "       'tested_negative', 'tested_negative', 'tested_negative',\n",
              "       'tested_positive', 'tested_negative', 'tested_negative',\n",
              "       'tested_positive', 'tested_negative', 'tested_negative',\n",
              "       'tested_negative', 'tested_positive', 'tested_negative',\n",
              "       'tested_negative', 'tested_negative', 'tested_negative',\n",
              "       'tested_negative', 'tested_negative', 'tested_negative',\n",
              "       'tested_negative', 'tested_negative', 'tested_negative',\n",
              "       'tested_negative', 'tested_negative', 'tested_negative',\n",
              "       'tested_negative', 'tested_negative', 'tested_positive',\n",
              "       'tested_positive', 'tested_negative', 'tested_positive',\n",
              "       'tested_negative', 'tested_negative', 'tested_positive',\n",
              "       'tested_positive', 'tested_negative', 'tested_positive',\n",
              "       'tested_positive', 'tested_negative', 'tested_negative',\n",
              "       'tested_negative', 'tested_negative', 'tested_negative',\n",
              "       'tested_negative', 'tested_negative', 'tested_negative',\n",
              "       'tested_positive', 'tested_negative', 'tested_negative',\n",
              "       'tested_positive', 'tested_negative', 'tested_negative',\n",
              "       'tested_negative', 'tested_negative', 'tested_negative',\n",
              "       'tested_negative', 'tested_negative', 'tested_negative',\n",
              "       'tested_negative', 'tested_negative', 'tested_negative',\n",
              "       'tested_negative', 'tested_positive', 'tested_negative',\n",
              "       'tested_negative', 'tested_negative', 'tested_negative',\n",
              "       'tested_positive', 'tested_positive', 'tested_negative',\n",
              "       'tested_positive', 'tested_negative', 'tested_positive',\n",
              "       'tested_negative', 'tested_positive', 'tested_negative',\n",
              "       'tested_positive', 'tested_negative', 'tested_positive',\n",
              "       'tested_negative', 'tested_negative', 'tested_positive',\n",
              "       'tested_positive', 'tested_positive', 'tested_negative',\n",
              "       'tested_negative', 'tested_positive', 'tested_negative',\n",
              "       'tested_negative', 'tested_negative', 'tested_negative',\n",
              "       'tested_positive', 'tested_positive', 'tested_negative',\n",
              "       'tested_positive', 'tested_negative', 'tested_positive',\n",
              "       'tested_negative', 'tested_negative', 'tested_positive',\n",
              "       'tested_positive', 'tested_negative', 'tested_positive',\n",
              "       'tested_negative', 'tested_negative', 'tested_negative',\n",
              "       'tested_positive', 'tested_negative', 'tested_negative',\n",
              "       'tested_positive', 'tested_positive', 'tested_negative',\n",
              "       'tested_negative', 'tested_negative', 'tested_negative',\n",
              "       'tested_negative', 'tested_negative', 'tested_negative',\n",
              "       'tested_negative', 'tested_negative', 'tested_negative',\n",
              "       'tested_negative', 'tested_negative', 'tested_positive',\n",
              "       'tested_negative', 'tested_negative', 'tested_negative',\n",
              "       'tested_negative', 'tested_negative', 'tested_negative',\n",
              "       'tested_negative', 'tested_negative', 'tested_negative',\n",
              "       'tested_positive', 'tested_negative', 'tested_positive',\n",
              "       'tested_positive', 'tested_negative', 'tested_negative',\n",
              "       'tested_negative', 'tested_negative', 'tested_negative',\n",
              "       'tested_negative', 'tested_positive', 'tested_negative',\n",
              "       'tested_positive', 'tested_positive', 'tested_negative',\n",
              "       'tested_positive', 'tested_positive', 'tested_positive',\n",
              "       'tested_positive', 'tested_negative', 'tested_negative',\n",
              "       'tested_negative', 'tested_negative', 'tested_negative',\n",
              "       'tested_positive', 'tested_positive', 'tested_negative',\n",
              "       'tested_negative', 'tested_positive', 'tested_negative',\n",
              "       'tested_positive', 'tested_positive', 'tested_negative',\n",
              "       'tested_negative', 'tested_negative', 'tested_negative',\n",
              "       'tested_positive', 'tested_negative', 'tested_negative',\n",
              "       'tested_negative', 'tested_negative', 'tested_negative',\n",
              "       'tested_negative', 'tested_negative', 'tested_positive',\n",
              "       'tested_negative', 'tested_positive', 'tested_negative',\n",
              "       'tested_positive', 'tested_negative', 'tested_positive',\n",
              "       'tested_negative', 'tested_negative', 'tested_negative',\n",
              "       'tested_negative', 'tested_negative', 'tested_negative',\n",
              "       'tested_positive', 'tested_positive', 'tested_negative',\n",
              "       'tested_negative', 'tested_negative', 'tested_negative',\n",
              "       'tested_positive', 'tested_negative', 'tested_positive',\n",
              "       'tested_negative', 'tested_positive', 'tested_negative',\n",
              "       'tested_negative', 'tested_positive', 'tested_positive',\n",
              "       'tested_negative', 'tested_negative', 'tested_negative',\n",
              "       'tested_negative', 'tested_negative', 'tested_negative',\n",
              "       'tested_negative', 'tested_negative', 'tested_negative',\n",
              "       'tested_negative', 'tested_negative', 'tested_negative',\n",
              "       'tested_negative', 'tested_negative', 'tested_negative',\n",
              "       'tested_positive', 'tested_negative', 'tested_negative',\n",
              "       'tested_negative', 'tested_negative', 'tested_negative',\n",
              "       'tested_negative', 'tested_negative', 'tested_positive',\n",
              "       'tested_negative', 'tested_negative', 'tested_positive',\n",
              "       'tested_positive', 'tested_positive', 'tested_positive',\n",
              "       'tested_negative', 'tested_positive', 'tested_negative',\n",
              "       'tested_negative', 'tested_negative', 'tested_negative',\n",
              "       'tested_positive', 'tested_positive', 'tested_positive',\n",
              "       'tested_positive', 'tested_negative'], dtype='<U15')"
            ]
          },
          "metadata": {},
          "execution_count": 7
        }
      ]
    },
    {
      "cell_type": "code",
      "source": [
        "train_predict = model.predict(train.iloc[:,0:8])\n",
        "tn,fp,fn,tp = confusion_matrix(train.iloc[:,8], train_predict).ravel()\n",
        "tn,fp,fn,tp\n",
        "\n"
      ],
      "metadata": {
        "colab": {
          "base_uri": "https://localhost:8080/"
        },
        "id": "okMBobjurvMy",
        "outputId": "6ce19022-ba34-43cf-81e1-6a10e6cdd836"
      },
      "execution_count": 11,
      "outputs": [
        {
          "output_type": "execute_result",
          "data": {
            "text/plain": [
              "(416, 77, 104, 161)"
            ]
          },
          "metadata": {},
          "execution_count": 11
        }
      ]
    },
    {
      "cell_type": "code",
      "source": [
        "train_predict = model.predict(train.iloc[:,0:8])\n",
        "tn,fp,fn,tp = confusion_matrix(train.iloc[:,8], train_predict).ravel()\n",
        "(tn+tp)/(tn+fp+fn+tp)"
      ],
      "metadata": {
        "colab": {
          "base_uri": "https://localhost:8080/"
        },
        "id": "phdNYOLhsedJ",
        "outputId": "4c216d52-5242-489f-bbf5-86edf21c49ad"
      },
      "execution_count": 12,
      "outputs": [
        {
          "output_type": "execute_result",
          "data": {
            "text/plain": [
              "0.7612137203166227"
            ]
          },
          "metadata": {},
          "execution_count": 12
        }
      ]
    },
    {
      "cell_type": "code",
      "source": [
        "main_test_predict = model.predict(main_test.iloc[:,0:8])\n",
        "tn,fp,fn,tp = confusion_matrix(main_test.iloc[:,8], main_test_predict).ravel()\n",
        "tn,fp,fn,tp\n"
      ],
      "metadata": {
        "colab": {
          "base_uri": "https://localhost:8080/"
        },
        "id": "-WS98CGysvPb",
        "outputId": "bf64c0b9-2176-4bb7-e237-9b27b4866890"
      },
      "execution_count": 15,
      "outputs": [
        {
          "output_type": "execute_result",
          "data": {
            "text/plain": [
              "(2, 1, 3, 4)"
            ]
          },
          "metadata": {},
          "execution_count": 15
        }
      ]
    },
    {
      "cell_type": "code",
      "source": [
        "main_test_predict = model.predict(main_test.iloc[:,0:8])\n",
        "tn,fp,fn,tp = confusion_matrix(main_test.iloc[:,8], main_test_predict).ravel()\n",
        "(tn+tp)/(tn+fp+fn+tp)"
      ],
      "metadata": {
        "colab": {
          "base_uri": "https://localhost:8080/"
        },
        "id": "9RYp44iUs93J",
        "outputId": "4f899f7d-fa53-494a-f6de-47fb9f1cac15"
      },
      "execution_count": 16,
      "outputs": [
        {
          "output_type": "execute_result",
          "data": {
            "text/plain": [
              "0.6"
            ]
          },
          "metadata": {},
          "execution_count": 16
        }
      ]
    }
  ]
}